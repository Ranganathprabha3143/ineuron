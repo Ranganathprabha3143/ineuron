{
 "cells": [
  {
   "cell_type": "markdown",
   "id": "11306dd1-8219-43dd-85c1-bf139717b548",
   "metadata": {},
   "source": [
    "1. which keyword is used to create a function ? create a function to return list of odd number in the range of 1 to 25?"
   ]
  },
  {
   "cell_type": "markdown",
   "id": "41d890a4-2ce5-483c-8923-08b1d7255b96",
   "metadata": {},
   "source": [
    "In Python, the keyword used to create a function is def."
   ]
  },
  {
   "cell_type": "code",
   "execution_count": 2,
   "id": "9364151e-533b-4e6e-8146-54853999c28a",
   "metadata": {},
   "outputs": [],
   "source": [
    "def test1():\n",
    "    print(\"this is my very very first function\")"
   ]
  },
  {
   "cell_type": "code",
   "execution_count": 5,
   "id": "c913a142-e46f-464b-9711-0b5754aa15c8",
   "metadata": {},
   "outputs": [
    {
     "name": "stdout",
     "output_type": "stream",
     "text": [
      "[1, 3, 5, 7, 9, 11, 13, 15, 17, 19, 21, 23, 25]\n"
     ]
    }
   ],
   "source": [
    "def odd_num_in_range(x, y):\n",
    "    # Use a list comprehension to generate the list of odd numbers\n",
    "    odd_numbers = [num for num in range(x, y + 1) if num % 2 != 0]\n",
    "    return odd_numbers\n",
    "\n",
    "# Call the function to get the odd numbers in the range 1 to 25\n",
    "odd_numbers = odd_num_in_range(1, 25)\n",
    "print(odd_numbers)\n"
   ]
  },
  {
   "cell_type": "code",
   "execution_count": 18,
   "id": "6c85b253-967b-4b2a-9997-9f2a2a22fa9c",
   "metadata": {},
   "outputs": [
    {
     "name": "stdout",
     "output_type": "stream",
     "text": [
      "[1, 3, 5, 7, 9, 11, 13, 15, 17, 19, 21, 23, 25, 27, 29]\n"
     ]
    }
   ],
   "source": [
    "def odd(x,y):\n",
    "    odd = [i for i in range(x, y+1) if i % 2!= 0]\n",
    "    return odd\n",
    "odd = odd(1, 30)\n",
    "print(odd)"
   ]
  },
  {
   "cell_type": "code",
   "execution_count": 25,
   "id": "1404dcdb-b395-4b00-82be-21f2f7facd32",
   "metadata": {},
   "outputs": [
    {
     "name": "stdout",
     "output_type": "stream",
     "text": [
      "[2, 4, 6, 8, 10, 12, 14, 16, 18, 20, 22, 24]\n"
     ]
    }
   ],
   "source": [
    "def even(x,y):\n",
    "    num = [i for i in range(x,y+1) if i % 2==0]\n",
    "    return num\n",
    "num= even(1,25)\n",
    "print(num)"
   ]
  },
  {
   "cell_type": "markdown",
   "id": "4299b9f6-2635-458a-bf87-cdcc595576c1",
   "metadata": {},
   "source": [
    "2. why *args and *kwargs are used in some function ? create a function each *args and *kwargs to demonstrate their use."
   ]
  },
  {
   "cell_type": "markdown",
   "id": "364a80ef-d947-4c4d-a854-0f22e38d61f1",
   "metadata": {},
   "source": [
    "*args is used to pass a variable number of non-keyword (positional) arguments to a function.\n",
    "\n",
    "When you use *args in a function definition, it collects all the extra positional arguments passed to the function into a tuple.\n",
    "\n",
    "You can then iterate through this tuple or access its elements using indexing.\n"
   ]
  },
  {
   "cell_type": "code",
   "execution_count": 27,
   "id": "d021f8dd-517f-4431-a1f2-f3156759a712",
   "metadata": {},
   "outputs": [
    {
     "name": "stdout",
     "output_type": "stream",
     "text": [
      "1\n",
      "2\n",
      "3\n",
      "a\n",
      "b\n",
      "c\n",
      "d\n"
     ]
    }
   ],
   "source": [
    "def print_args(*args):\n",
    "    for arg in args:\n",
    "        print(arg)\n",
    "\n",
    "print_args(1, 2, 3)  # Prints 1, 2, 3\n",
    "print_args('a', 'b', 'c', 'd')  # Prints 'a', 'b', 'c', 'd'\n"
   ]
  },
  {
   "cell_type": "markdown",
   "id": "3739c944-e523-4bf5-9a93-8267e46c5f11",
   "metadata": {},
   "source": [
    "**kwargs stands for \"keyword arguments\" and is used to pass a variable number of keyword arguments to a function.\n",
    "\n",
    "When you use **kwargs in a function definition, it allows you to pass any number of keyword arguments, which are then collected into a dictionary.\n",
    "\n",
    "You can access these keyword arguments within the function using the dictionary kwargs.\n"
   ]
  },
  {
   "cell_type": "code",
   "execution_count": 2,
   "id": "c41c87c1-7de7-4b8d-9314-544e827258a3",
   "metadata": {},
   "outputs": [
    {
     "name": "stdout",
     "output_type": "stream",
     "text": [
      "name: Alice\n",
      "age: 30\n",
      "city: New York\n"
     ]
    }
   ],
   "source": [
    "def display_info(**kwargs):\n",
    "    for key, value in kwargs.items():\n",
    "        print(f\"{key}: {value}\")\n",
    "\n",
    "display_info(name=\"Alice\", age=30, city=\"New York\")\n"
   ]
  },
  {
   "cell_type": "code",
   "execution_count": 3,
   "id": "83944e86-e796-45a5-9ca6-3422e0210c74",
   "metadata": {},
   "outputs": [
    {
     "name": "stdout",
     "output_type": "stream",
     "text": [
      "Non-keyword arguments (args):\n",
      "1\n",
      "2\n",
      "3\n",
      "\n",
      "Keyword arguments (kwargs):\n",
      "name: Alice\n",
      "age: 30\n",
      "city: Wonderland\n"
     ]
    }
   ],
   "source": [
    "def demo_function(*args, **kwargs):\n",
    "    print(\"Non-keyword arguments (args):\")\n",
    "    for arg in args:\n",
    "        print(arg)\n",
    "    \n",
    "    print(\"\\nKeyword arguments (kwargs):\")\n",
    "    for key, value in kwargs.items():\n",
    "        print(f\"{key}: {value}\")\n",
    "\n",
    "# Example usage of the function\n",
    "demo_function(1, 2, 3, name=\"Alice\", age=30, city=\"Wonderland\")\n"
   ]
  },
  {
   "cell_type": "markdown",
   "id": "59d0ae04-19bb-465c-ac9f-a0f70dc6442f",
   "metadata": {},
   "source": [
    "3. what is an iterator in python ? name the methods used to initialize the iterator object and the method used to for iteration.use these methods to print the first five elements of given list [2,4,6,8,10,12,14,16,18,20]"
   ]
  },
  {
   "cell_type": "markdown",
   "id": "ce055d0a-d3fb-4f58-b9fa-a7ab281e36c5",
   "metadata": {},
   "source": [
    "In Python, an iterator is an object that represents a stream of data. It allows you to iterate (loop) over elements in a container, such as a list, tuple, dictionary, or any other iterable object, one at a time. Iterators are typically used in for loops to traverse through the elements of a collection without having to access the entire collection at once, which can be memory-efficient.\n",
    "\n",
    "To create an iterator object, you can use the iter() function, and to iterate through the elements, you can use the next() function.\n",
    "\n"
   ]
  },
  {
   "cell_type": "code",
   "execution_count": 8,
   "id": "3c3edc7a-8e46-43fd-bca2-afc04a828c30",
   "metadata": {},
   "outputs": [
    {
     "name": "stdout",
     "output_type": "stream",
     "text": [
      "2\n",
      "4\n",
      "6\n",
      "8\n",
      "10\n"
     ]
    }
   ],
   "source": [
    "# Create an iterator object for the list\n",
    "my_list = [2, 4, 6, 8, 10, 12, 14, 16, 18, 20]\n",
    "my_iterator = iter(my_list)\n",
    "\n",
    "# Use a for loop to print the first five elements\n",
    "for _ in range(5):\n",
    "    element = next(my_iterator)\n",
    "    print(element)"
   ]
  },
  {
   "cell_type": "markdown",
   "id": "7a45da51-8e6b-49c5-95fb-d8af51f8b884",
   "metadata": {},
   "source": [
    "4. what is generator function in python ? why yeild keywords are used ? give an example of generator function ?"
   ]
  },
  {
   "cell_type": "markdown",
   "id": "da2274bc-02b3-4d13-bf19-b946e90be71a",
   "metadata": {},
   "source": [
    "In Python, a generator function is a special type of function that allows you to create an iterator, which can be used to iterate over a potentially large sequence of values without storing them all in memory. Generator functions are defined using the yield keyword instead of return."
   ]
  },
  {
   "cell_type": "code",
   "execution_count": 1,
   "id": "8af79763-dbf3-4ed3-961d-8733818dc3ca",
   "metadata": {},
   "outputs": [
    {
     "name": "stdout",
     "output_type": "stream",
     "text": [
      "1\n",
      "2\n",
      "3\n"
     ]
    }
   ],
   "source": [
    "def simple_generator():\n",
    "    yield 1\n",
    "    yield 2\n",
    "    yield 3\n",
    "\n",
    "# Creating a generator object\n",
    "gen = simple_generator()\n",
    "\n",
    "# Iterating over the generator\n",
    "for value in gen:\n",
    "    print(value)\n"
   ]
  },
  {
   "cell_type": "markdown",
   "id": "bcdab5f3-7831-4573-8b66-60b933b5208e",
   "metadata": {},
   "source": [
    "5. create a generator function for prime numbers less than 1000. use the next() method to print the first 20 prime numbers"
   ]
  },
  {
   "cell_type": "markdown",
   "id": "02818de8-e13d-4589-a3d4-c006eacf9b60",
   "metadata": {},
   "source": [
    "You can create a generator function in Python to generate prime numbers less than 1000 and then use the next() method to print the first 20 prime numbers. Here's an example of how you can do this:"
   ]
  },
  {
   "cell_type": "code",
   "execution_count": 2,
   "id": "e30b65e3-4de8-49a6-91bc-ab08cd201bf1",
   "metadata": {},
   "outputs": [
    {
     "name": "stdout",
     "output_type": "stream",
     "text": [
      "2\n",
      "3\n",
      "5\n",
      "7\n",
      "11\n",
      "13\n",
      "17\n",
      "19\n",
      "23\n",
      "29\n",
      "31\n",
      "37\n",
      "41\n",
      "43\n",
      "47\n",
      "53\n",
      "59\n",
      "61\n",
      "67\n",
      "71\n"
     ]
    }
   ],
   "source": [
    "def is_prime(n):\n",
    "    if n <= 1:\n",
    "        return False\n",
    "    if n <= 3:\n",
    "        return True\n",
    "    if n % 2 == 0 or n % 3 == 0:\n",
    "        return False\n",
    "    i = 5\n",
    "    while i * i <= n:\n",
    "        if n % i == 0 or n % (i + 2) == 0:\n",
    "            return False\n",
    "        i += 6\n",
    "    return True\n",
    "\n",
    "def prime_generator():\n",
    "    n = 2\n",
    "    while n < 1000:\n",
    "        if is_prime(n):\n",
    "            yield n\n",
    "        n += 1\n",
    "\n",
    "# Create the prime generator\n",
    "prime_gen = prime_generator()\n",
    "\n",
    "# Print the first 20 prime numbers\n",
    "for _ in range(20):\n",
    "    print(next(prime_gen))\n"
   ]
  },
  {
   "cell_type": "code",
   "execution_count": null,
   "id": "db2b8d0a-2e03-4472-bd72-0c5566e947ef",
   "metadata": {},
   "outputs": [],
   "source": []
  }
 ],
 "metadata": {
  "kernelspec": {
   "display_name": "Python 3 (ipykernel)",
   "language": "python",
   "name": "python3"
  },
  "language_info": {
   "codemirror_mode": {
    "name": "ipython",
    "version": 3
   },
   "file_extension": ".py",
   "mimetype": "text/x-python",
   "name": "python",
   "nbconvert_exporter": "python",
   "pygments_lexer": "ipython3",
   "version": "3.10.8"
  }
 },
 "nbformat": 4,
 "nbformat_minor": 5
}
