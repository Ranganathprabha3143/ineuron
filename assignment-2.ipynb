{
 "cells": [
  {
   "cell_type": "markdown",
   "id": "44d076c0-1872-41b3-9ff8-3059b8f0f0ef",
   "metadata": {},
   "source": [
    "Assignment-2"
   ]
  },
  {
   "cell_type": "markdown",
   "id": "4778d5f2-c557-4e19-87e6-a6d0c7437c8a",
   "metadata": {},
   "source": [
    "1. How do you comment code in python ? what are different types of comments?"
   ]
  },
  {
   "cell_type": "code",
   "execution_count": 15,
   "id": "247dd578-5713-49e5-af3a-bcb3e5b1c90f",
   "metadata": {},
   "outputs": [],
   "source": [
    "# addition \n",
    "s = 1 + 2    #this is single line comment"
   ]
  },
  {
   "cell_type": "code",
   "execution_count": 14,
   "id": "eb4fbf00-6d85-446f-8d03-83bbdd6302fd",
   "metadata": {},
   "outputs": [
    {
     "name": "stdout",
     "output_type": "stream",
     "text": [
      "3\n"
     ]
    }
   ],
   "source": [
    "print(s)"
   ]
  },
  {
   "cell_type": "code",
   "execution_count": 16,
   "id": "921b65ef-e8ce-4131-8eda-0edadf2cde21",
   "metadata": {},
   "outputs": [],
   "source": [
    "''' s1 = addition\n",
    "    s2 = subtract '''  #this is multiline comment\n",
    "s1 = 1 + 2\n",
    "s2 = 2 - 1 "
   ]
  },
  {
   "cell_type": "code",
   "execution_count": 17,
   "id": "3bcaf36e-9296-468e-8811-35b8dd510b47",
   "metadata": {},
   "outputs": [
    {
     "name": "stdout",
     "output_type": "stream",
     "text": [
      "3\n",
      "1\n"
     ]
    }
   ],
   "source": [
    "print(s1)\n",
    "print(s2)"
   ]
  },
  {
   "cell_type": "raw",
   "id": "c7b3bef5-3a66-4286-a68b-a86e908a6d10",
   "metadata": {},
   "source": [
    "###there are 2 types of comments in python  #single line coment   #multiline coment"
   ]
  },
  {
   "cell_type": "markdown",
   "id": "2fd6e9d9-eb7e-4822-ae64-16ce18a60065",
   "metadata": {},
   "source": [
    "2. what are varible in python ? how do you declare and assign values to varibles?"
   ]
  },
  {
   "cell_type": "markdown",
   "id": "bae3d89d-4d55-4034-829e-6c2f582048e6",
   "metadata": {},
   "source": [
    "In Python, a variable is a symbolic name that references a value stored in the computer's memory. It acts as a container for storing data, and you can manipulate and retrieve this data using the variable name.\n",
    "\n",
    "To declare and assign values to variables in Python, you simply use the assignment operator (=). Here's the basic syntax:"
   ]
  },
  {
   "cell_type": "code",
   "execution_count": 20,
   "id": "c3f701fd-acf1-4a9b-8fec-5964c8df64fd",
   "metadata": {},
   "outputs": [
    {
     "data": {
      "text/plain": [
       "'a is an variable'"
      ]
     },
     "execution_count": 20,
     "metadata": {},
     "output_type": "execute_result"
    }
   ],
   "source": [
    "\n",
    "a = 10\n",
    "\"a is an variable\""
   ]
  },
  {
   "cell_type": "markdown",
   "id": "907ff476-42db-47a2-a931-58d2e04e1fdf",
   "metadata": {},
   "source": [
    "3.how do you convert one data type to another data type in python ?"
   ]
  },
  {
   "cell_type": "code",
   "execution_count": 26,
   "id": "3e3ffb51-ee0b-4bf6-b8c3-67e76a195a7a",
   "metadata": {},
   "outputs": [
    {
     "name": "stdout",
     "output_type": "stream",
     "text": [
      "123\n",
      "123.0\n"
     ]
    }
   ],
   "source": [
    "##String to Integer or Float\n",
    "\n",
    "string_num = \"123\"\n",
    "integer_num = int(string_num)\n",
    "float_num = float(string_num)\n",
    "\n",
    "print(integer_num)\n",
    "print(float_num)\n"
   ]
  },
  {
   "cell_type": "code",
   "execution_count": 37,
   "id": "12b5c268-a58b-4dc1-b476-cce12125224c",
   "metadata": {},
   "outputs": [
    {
     "name": "stdout",
     "output_type": "stream",
     "text": [
      "123\n",
      "123.45\n"
     ]
    }
   ],
   "source": [
    "##Integer or Float to String\n",
    "\n",
    "integer_num = 123\n",
    "float_num = 123.45\n",
    "string_num = str(integer_num)\n",
    "string_float = str(float_num)\n",
    "\n",
    "print(string_num)\n",
    "print(string_float)"
   ]
  },
  {
   "cell_type": "code",
   "execution_count": 44,
   "id": "9392c218-cb2a-4c02-8ead-696f55ab4691",
   "metadata": {},
   "outputs": [],
   "source": [
    "s = {\" ranganath \", \" data scientist \"}\n"
   ]
  },
  {
   "cell_type": "code",
   "execution_count": 46,
   "id": "200889fc-41ba-44a2-a92f-24c251aeb31a",
   "metadata": {},
   "outputs": [
    {
     "data": {
      "text/plain": [
       "(' ranganath ', ' data scientist ')"
      ]
     },
     "execution_count": 46,
     "metadata": {},
     "output_type": "execute_result"
    }
   ],
   "source": [
    "##sets to tuple\n",
    "tuple(s)"
   ]
  },
  {
   "cell_type": "code",
   "execution_count": 47,
   "id": "8c53b7e9-622e-47bb-a7c6-dfc4807f906d",
   "metadata": {},
   "outputs": [
    {
     "data": {
      "text/plain": [
       "[' ranganath ', ' data scientist ']"
      ]
     },
     "execution_count": 47,
     "metadata": {},
     "output_type": "execute_result"
    }
   ],
   "source": [
    "## sets to list\n",
    "list(s)"
   ]
  },
  {
   "cell_type": "markdown",
   "id": "6f198d95-41d1-49a9-97d4-88c360b540de",
   "metadata": {},
   "source": [
    "4.how do you write and excute a python script from the command line ?  "
   ]
  },
  {
   "cell_type": "markdown",
   "id": "5acd3064-37b1-4da2-af43-84b2a0faa3c0",
   "metadata": {},
   "source": [
    "step 1\n",
    "open a note pad create a new file with a .py and write a pyhthon code in this file and save it\n"
   ]
  },
  {
   "cell_type": "code",
   "execution_count": 55,
   "id": "5bd65e81-cfe0-4952-853c-3f1e119a1e17",
   "metadata": {},
   "outputs": [
    {
     "name": "stdout",
     "output_type": "stream",
     "text": [
      "hello world\n"
     ]
    }
   ],
   "source": [
    "s = \"hello world\"\n",
    "print(s)"
   ]
  },
  {
   "cell_type": "markdown",
   "id": "5f310952-f71a-4ad8-a943-57cc063fdd83",
   "metadata": {},
   "source": [
    "step 2 \n",
    "save the file with\" .py \"extension in a directory of your choice. Remember the location where you saved the file.\n"
   ]
  },
  {
   "cell_type": "markdown",
   "id": "ca8063a9-3ff6-4347-94a3-5a2199c56059",
   "metadata": {},
   "source": [
    "step 3 \n",
    "open the command prompt on your computer You can usually find it in the applications or by searching for \"Command Prompt\" on Windows "
   ]
  },
  {
   "cell_type": "markdown",
   "id": "2fb45922-c658-45ea-a050-380d6fa061b1",
   "metadata": {},
   "source": [
    "step 4\n",
    "use \"cd\" command by navigate to the directory where you saved your Python script. For example, if your script is saved on the desktop, you might use:"
   ]
  },
  {
   "cell_type": "markdown",
   "id": "3f8e1b1d-0039-40f5-8c63-0618f786e21a",
   "metadata": {},
   "source": [
    "step 5\n",
    "To execute the Python script, simply type python followed by the name of your script file and press Enter.\n",
    "\n",
    "\"This will run your Python script, and you should see the output on the command prompt\""
   ]
  },
  {
   "cell_type": "markdown",
   "id": "7347135a-acb1-4ee1-9e9e-9d07186d0488",
   "metadata": {},
   "source": [
    "5. Given a list my_list = [1,2,3,4,5,], write the code slice the list and obtain sub-list [2,3]."
   ]
  },
  {
   "cell_type": "code",
   "execution_count": 25,
   "id": "bf15f90b-8145-4fc0-8b68-bf33851c0565",
   "metadata": {},
   "outputs": [],
   "source": [
    "my_list = [1,2,3,4,5]"
   ]
  },
  {
   "cell_type": "code",
   "execution_count": 29,
   "id": "55b1fcec-cb7e-4d8c-9301-fbcfa637bbdd",
   "metadata": {},
   "outputs": [
    {
     "data": {
      "text/plain": [
       "[2, 3]"
      ]
     },
     "execution_count": 29,
     "metadata": {},
     "output_type": "execute_result"
    }
   ],
   "source": [
    "my_list[1:3]"
   ]
  },
  {
   "cell_type": "markdown",
   "id": "76e9fb1b-bb4a-44fa-b7ac-6a3faa31ccd6",
   "metadata": {},
   "source": [
    "6.what is complex in mathematics, how is it represented by in python "
   ]
  },
  {
   "cell_type": "markdown",
   "id": "b2247eec-a66e-406d-ac07-27a6ad24a449",
   "metadata": {},
   "source": [
    "In mathematics the complex number \"a + bi\", the term \"a\" represents the real part of the number, and \"bi\" represents the imaginary part.\n"
   ]
  },
  {
   "cell_type": "code",
   "execution_count": 57,
   "id": "7ec70014-5298-4123-a6e2-e4a73061a220",
   "metadata": {},
   "outputs": [
    {
     "name": "stdout",
     "output_type": "stream",
     "text": [
      "Sum: (9+0j)\n",
      "Difference: (-1+14j)\n",
      "Product: (69+7j)\n",
      "Quotient: (-0.39189189189189183+0.8513513513513514j)\n"
     ]
    }
   ],
   "source": [
    "#in python Creating complex numbers\n",
    "s1 = 4 + 7j  # 4 is the real part, 7 is the imaginary part\n",
    "s2 = 5 - 7j  # 5 is the real part, -7 is the imaginary part\n",
    "\n",
    "# Performing arithmetic operations with complex numbers\n",
    "\n",
    "sum_s = s1 + s2\n",
    "difference_s = s1 - s2\n",
    "product_s = s1 * s2\n",
    "quotient_s = s1 / s2\n",
    "\n",
    "print(\"Sum:\", sum_s)\n",
    "print(\"Difference:\", difference_s)\n",
    "print(\"Product:\", product_s)\n",
    "print(\"Quotient:\", quotient_s)\n"
   ]
  },
  {
   "cell_type": "markdown",
   "id": "e00d52c4-b979-4c8e-80b6-ec768f07c097",
   "metadata": {},
   "source": [
    " 7. what is the correct way to declare a varable named age and assign the value 25 to it"
   ]
  },
  {
   "cell_type": "code",
   "execution_count": 59,
   "id": "2b112e53-e414-49cf-b185-ac6f60e8e99f",
   "metadata": {},
   "outputs": [],
   "source": [
    "## age is varible and 25 value \n",
    "Age = 25"
   ]
  },
  {
   "cell_type": "code",
   "execution_count": 60,
   "id": "fc157870-fd26-4882-87df-829d3e6b3741",
   "metadata": {},
   "outputs": [
    {
     "data": {
      "text/plain": [
       "25"
      ]
     },
     "execution_count": 60,
     "metadata": {},
     "output_type": "execute_result"
    }
   ],
   "source": [
    "Age"
   ]
  },
  {
   "cell_type": "markdown",
   "id": "380e31cd-7634-4f4f-8426-6a19bd668eab",
   "metadata": {},
   "source": [
    "8. Declare the varible named price and assigned the value 99.99 to it. what data type does this varible belong to?"
   ]
  },
  {
   "cell_type": "code",
   "execution_count": null,
   "id": "8e9eb0af-2aab-45a4-ac78-cac7bb6b8cf1",
   "metadata": {},
   "outputs": [],
   "source": [
    "''' named_price is varible and 99.99 is a value \n",
    "this varible data type is float number'''\n",
    "\n"
   ]
  },
  {
   "cell_type": "code",
   "execution_count": 14,
   "id": "9633b21e-5009-48a4-b076-343ee9867c07",
   "metadata": {},
   "outputs": [],
   "source": [
    "named_price = 99.99"
   ]
  },
  {
   "cell_type": "code",
   "execution_count": 17,
   "id": "cf07f53e-8466-48d7-a46b-58b52b2d95af",
   "metadata": {},
   "outputs": [
    {
     "data": {
      "text/plain": [
       "float"
      ]
     },
     "execution_count": 17,
     "metadata": {},
     "output_type": "execute_result"
    }
   ],
   "source": [
    "type(named_price)"
   ]
  },
  {
   "cell_type": "code",
   "execution_count": 12,
   "id": "24812a43-c0ab-4f2d-90cd-a02179d94742",
   "metadata": {},
   "outputs": [],
   "source": [
    "s = 99.99"
   ]
  },
  {
   "cell_type": "code",
   "execution_count": 13,
   "id": "25e532fe-a252-4e14-9c0a-f4f405dd3b52",
   "metadata": {},
   "outputs": [
    {
     "data": {
      "text/plain": [
       "float"
      ]
     },
     "execution_count": 13,
     "metadata": {},
     "output_type": "execute_result"
    }
   ],
   "source": [
    "type(s)"
   ]
  },
  {
   "cell_type": "markdown",
   "id": "f9cde419-ef18-4a12-9bae-29f3af8f9a59",
   "metadata": {},
   "source": [
    "9. create a variable named name and assign your full name to it as a string. how would you print the value of this variable "
   ]
  },
  {
   "cell_type": "code",
   "execution_count": 18,
   "id": "ab7a1071-7144-4f26-848a-09f2248dcb82",
   "metadata": {},
   "outputs": [],
   "source": [
    "name = \"Ranganath swamy \""
   ]
  },
  {
   "cell_type": "code",
   "execution_count": 19,
   "id": "c4c1616b-ac78-4e36-8097-ccf7099f671e",
   "metadata": {},
   "outputs": [
    {
     "name": "stdout",
     "output_type": "stream",
     "text": [
      "Ranganath swamy \n"
     ]
    }
   ],
   "source": [
    "print(name)"
   ]
  },
  {
   "cell_type": "markdown",
   "id": "0aefad83-b48d-4d4b-8d16-33759e31de70",
   "metadata": {},
   "source": [
    "10 . Give the string \" Hello world \" extract the substring \"world\" "
   ]
  },
  {
   "cell_type": "code",
   "execution_count": 20,
   "id": "09905c41-18f5-49af-8edb-5b5f4abf2415",
   "metadata": {},
   "outputs": [
    {
     "name": "stdout",
     "output_type": "stream",
     "text": [
      "world\n"
     ]
    }
   ],
   "source": [
    "original_string = \"Hello world\"\n",
    "substring = original_string[6:]\n",
    "print(substring)\n"
   ]
  },
  {
   "cell_type": "markdown",
   "id": "2a06cbbe-46b4-4469-a416-fe7940db4e2e",
   "metadata": {},
   "source": [
    "11. create a varible named \"is_student\" and assign the boolean value indicating whether you are curruntly student or not "
   ]
  },
  {
   "cell_type": "code",
   "execution_count": 24,
   "id": "80be3876-df00-4fce-804c-be832972d84b",
   "metadata": {},
   "outputs": [
    {
     "data": {
      "text/plain": [
       "True"
      ]
     },
     "execution_count": 24,
     "metadata": {},
     "output_type": "execute_result"
    }
   ],
   "source": [
    "is_student = True\n",
    "\n",
    "is_student"
   ]
  },
  {
   "cell_type": "code",
   "execution_count": null,
   "id": "6acef05c-2c19-441d-9e47-927f087283e5",
   "metadata": {},
   "outputs": [],
   "source": []
  }
 ],
 "metadata": {
  "kernelspec": {
   "display_name": "Python 3 (ipykernel)",
   "language": "python",
   "name": "python3"
  },
  "language_info": {
   "codemirror_mode": {
    "name": "ipython",
    "version": 3
   },
   "file_extension": ".py",
   "mimetype": "text/x-python",
   "name": "python",
   "nbconvert_exporter": "python",
   "pygments_lexer": "ipython3",
   "version": "3.10.8"
  }
 },
 "nbformat": 4,
 "nbformat_minor": 5
}
