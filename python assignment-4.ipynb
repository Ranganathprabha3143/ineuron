{
 "cells": [
  {
   "cell_type": "markdown",
   "id": "bd316d41-6c12-4600-8272-22e05d3fe7d3",
   "metadata": {},
   "source": [
    "1. create a python program to sort the given list of tuple based on integer valuve using a lambda function.\n",
    "[('sachin tendulkar',34357),('ricky ponting',27483),('jack kallis',25534),('virat kohli',24936)]"
   ]
  },
  {
   "cell_type": "markdown",
   "id": "687c939f-eb99-4a0f-abfe-abebe24bcbfe",
   "metadata": {},
   "source": [
    "You can sort the given list of tuples based on the integer values using a lambda function and the sorted function in Python."
   ]
  },
  {
   "cell_type": "code",
   "execution_count": 9,
   "id": "e96a4037-e75f-4ed7-a0bd-cb1c7c82342a",
   "metadata": {},
   "outputs": [
    {
     "name": "stdout",
     "output_type": "stream",
     "text": [
      "('virat kohli', 24936)\n",
      "('jack kallis', 25534)\n",
      "('ricky ponting', 27483)\n",
      "('sachin tendulkar', 34357)\n"
     ]
    }
   ],
   "source": [
    "data = [('sachin tendulkar', 34357), ('ricky ponting', 27483), ('jack kallis', 25534), ('virat kohli', 24936)]\n",
    "\n",
    "# Sort the list of tuples based on the second element (integer value) using a lambda function\n",
    "sorted_data = sorted(data, key=lambda x: x[1])\n",
    "\n",
    "for i in sorted_data:\n",
    "    print(i)"
   ]
  },
  {
   "cell_type": "code",
   "execution_count": 14,
   "id": "813d2318-8146-4733-bed0-b9c88af96b27",
   "metadata": {},
   "outputs": [
    {
     "name": "stdout",
     "output_type": "stream",
     "text": [
      "[('rangnath', 99)]\n"
     ]
    }
   ],
   "source": [
    "s = [ ('rangnath',99)]\n",
    "r=sorted(s, key=lambda x:x[1])\n",
    "print(r)"
   ]
  },
  {
   "cell_type": "markdown",
   "id": "c0d6cd79-19b8-4f0e-ae58-eb875b340879",
   "metadata": {},
   "source": [
    "2. write a python program to find out the squares all the numbers in the list of integer using lambda and map functions.\n",
    "[1,2,3,4,5,6,7,8,9,10,]"
   ]
  },
  {
   "cell_type": "code",
   "execution_count": 1,
   "id": "ba3920f0-bd28-4db1-8db6-b76aa5fb2513",
   "metadata": {},
   "outputs": [
    {
     "name": "stdout",
     "output_type": "stream",
     "text": [
      "[1, 4, 9, 16, 25, 36, 49, 64, 81, 100]\n"
     ]
    }
   ],
   "source": [
    "# Define the list of integers\n",
    "numbers = [1, 2, 3, 4, 5, 6, 7, 8, 9, 10]\n",
    "\n",
    "# Use map and lambda to find the squares\n",
    "squares = list(map(lambda x: x ** 2, numbers))\n",
    "\n",
    "# Print the list of squares\n",
    "print(squares)\n"
   ]
  },
  {
   "cell_type": "markdown",
   "id": "044c7e8a-c583-4f6e-bcf0-6b925c0e9d7c",
   "metadata": {},
   "source": [
    "3. write a python program to convert the given list integers to tuple of strings.use lambda map functions"
   ]
  },
  {
   "cell_type": "code",
   "execution_count": 5,
   "id": "17e5a554-21d6-4e20-a199-37e71a65693a",
   "metadata": {},
   "outputs": [
    {
     "name": "stdout",
     "output_type": "stream",
     "text": [
      "('1', '2', '3', '4', '5')\n"
     ]
    }
   ],
   "source": [
    "# Sample list of integers\n",
    "integers_list = [1, 2, 3, 4, 5]\n",
    "\n",
    "# Use map and lambda to convert the integers to strings and create a tuple\n",
    "tuple_of_strings = tuple(map(lambda x: str(x), integers_list))\n",
    "\n",
    "# Print the result\n",
    "print(tuple_of_strings)\n"
   ]
  },
  {
   "cell_type": "markdown",
   "id": "19f4407a-1467-4940-9193-bed7d3cfd7ee",
   "metadata": {},
   "source": [
    "4. write a python program using reduce function to compute the product of a list containing numbers 1 to 25 ?"
   ]
  },
  {
   "cell_type": "code",
   "execution_count": 1,
   "id": "ece2a00b-e246-4094-9e01-376dfc9b6302",
   "metadata": {},
   "outputs": [
    {
     "name": "stdout",
     "output_type": "stream",
     "text": [
      "The product of numbers from 1 to 25 is: 15511210043330985984000000\n"
     ]
    }
   ],
   "source": [
    "from functools import reduce\n",
    "\n",
    "# Create a list containing numbers from 1 to 25\n",
    "numbers = list(range(1, 26))\n",
    "\n",
    "# Define a function to compute the product of two numbers\n",
    "def product(x, y):\n",
    "    return x * y\n",
    "\n",
    "# Use the reduce function to compute the product of the list\n",
    "result = reduce(product, numbers)\n",
    "\n",
    "# Print the result\n",
    "print(\"The product of numbers from 1 to 25 is:\", result)\n"
   ]
  },
  {
   "cell_type": "markdown",
   "id": "83d4db8a-51d1-44ae-b3c1-5db4d5ede2bb",
   "metadata": {},
   "source": [
    "5. write a python program to filter the number in given list that are divisible 2 and 3 using the filter function [2,3,6,9,27,60,90,120,55,46]"
   ]
  },
  {
   "cell_type": "code",
   "execution_count": 4,
   "id": "1c18b976-677f-4f3a-b87d-e4d1c9a0ac95",
   "metadata": {},
   "outputs": [
    {
     "name": "stdout",
     "output_type": "stream",
     "text": [
      "Numbers divisible by both 2 and 3: [6, 60, 90, 120]\n"
     ]
    }
   ],
   "source": [
    "# Define a list of numbers\n",
    "numbers = [2, 3, 6, 9, 27, 60, 90, 120, 55, 46]\n",
    "\n",
    "# Define a function to check if a number is divisible by both 2 and 3\n",
    "def is_divisible_by_2_and_3(number):\n",
    "    return number % 2 == 0 and number % 3 == 0\n",
    "\n",
    "# Use the filter() function to filter the numbers\n",
    "filtered_numbers = list(filter(is_divisible_by_2_and_3, numbers))\n",
    "\n",
    "# Print the filtered numbers\n",
    "print(\"Numbers divisible by both 2 and 3:\", filtered_numbers)\n"
   ]
  },
  {
   "cell_type": "markdown",
   "id": "37d35c57-223d-4716-9877-6c609805ebe1",
   "metadata": {},
   "source": [
    "6. write a python program to find palindrome in the given list using lambda and filter function \n",
    "[python',php',aba', radar',level']"
   ]
  },
  {
   "cell_type": "code",
   "execution_count": 7,
   "id": "57f544b2-eec7-41ee-9049-768854f26109",
   "metadata": {},
   "outputs": [
    {
     "name": "stdout",
     "output_type": "stream",
     "text": [
      "Palindromes in the list: ['php', 'aba', 'radar', 'level']\n"
     ]
    }
   ],
   "source": [
    "# Define a list of strings\n",
    "word_list = ['python', 'php', 'aba', 'radar', 'level']\n",
    "\n",
    "# Use filter and a lambda function to find palindromes\n",
    "palindromes = list(filter(lambda word: word == word[::-1], word_list))\n",
    "\n",
    "# Print the palindromes\n",
    "print(\"Palindromes in the list:\", palindromes)\n"
   ]
  },
  {
   "cell_type": "code",
   "execution_count": 9,
   "id": "7d1b64fc-6970-4cd7-9e16-d1d809423af7",
   "metadata": {},
   "outputs": [
    {
     "name": "stdout",
     "output_type": "stream",
     "text": [
      "['cicic']\n"
     ]
    }
   ],
   "source": [
    "L = ['cicic','kanaka']\n",
    "\n",
    "palindromes = list(filter(lambda word: word == word[::-1], L))\n",
    "print(palindromes)"
   ]
  },
  {
   "cell_type": "code",
   "execution_count": null,
   "id": "53e07dee-03d7-45a9-82d3-b86dad67e7ba",
   "metadata": {},
   "outputs": [],
   "source": []
  }
 ],
 "metadata": {
  "kernelspec": {
   "display_name": "Python 3 (ipykernel)",
   "language": "python",
   "name": "python3"
  },
  "language_info": {
   "codemirror_mode": {
    "name": "ipython",
    "version": 3
   },
   "file_extension": ".py",
   "mimetype": "text/x-python",
   "name": "python",
   "nbconvert_exporter": "python",
   "pygments_lexer": "ipython3",
   "version": "3.10.8"
  }
 },
 "nbformat": 4,
 "nbformat_minor": 5
}
